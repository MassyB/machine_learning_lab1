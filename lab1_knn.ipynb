{
 "cells": [
  {
   "cell_type": "code",
   "execution_count": 2,
   "metadata": {
    "collapsed": true
   },
   "outputs": [],
   "source": [
    "import numpy as np\n",
    "from sklearn import datasets"
   ]
  },
  {
   "cell_type": "code",
   "execution_count": 3,
   "metadata": {
    "collapsed": true
   },
   "outputs": [],
   "source": [
    "iris = datasets.load_iris()"
   ]
  },
  {
   "cell_type": "code",
   "execution_count": 4,
   "metadata": {
    "collapsed": true
   },
   "outputs": [],
   "source": [
    "iris_X = iris.data"
   ]
  },
  {
   "cell_type": "code",
   "execution_count": 5,
   "metadata": {
    "collapsed": true
   },
   "outputs": [],
   "source": [
    "iris_y = iris.target"
   ]
  },
  {
   "cell_type": "code",
   "execution_count": 6,
   "metadata": {
    "collapsed": false
   },
   "outputs": [
    {
     "data": {
      "text/plain": [
       "array([0, 1, 2])"
      ]
     },
     "execution_count": 6,
     "metadata": {},
     "output_type": "execute_result"
    }
   ],
   "source": [
    "np.unique(iris_y)"
   ]
  },
  {
   "cell_type": "code",
   "execution_count": 7,
   "metadata": {
    "collapsed": true
   },
   "outputs": [],
   "source": [
    "#split iris data into train and test dataset\n",
    "#a random permutation, to split the data randomly\n",
    "np.random.seed(0)\n",
    "indices = np.random.permutation(len(iris_X))\n",
    "iris_X_train = iris_X[indices[:-10]]\n",
    "iris_y_train = iris_y[indices[:-10]]\n",
    "iris_X_test = iris_X[indices[-10:]]\n",
    "iris_y_test = iris_y[indices[-10:]]"
   ]
  },
  {
   "cell_type": "code",
   "execution_count": 8,
   "metadata": {
    "collapsed": false
   },
   "outputs": [
    {
     "data": {
      "text/plain": [
       "KNeighborsClassifier(algorithm='auto', leaf_size=30, metric='minkowski',\n",
       "           metric_params=None, n_jobs=1, n_neighbors=5, p=2,\n",
       "           weights='uniform')"
      ]
     },
     "execution_count": 8,
     "metadata": {},
     "output_type": "execute_result"
    }
   ],
   "source": [
    "# Create and fit a k-nearest-neighbor classifier\n",
    "from sklearn.neighbors import KNeighborsClassifier\n",
    "knn = KNeighborsClassifier()\n",
    "knn.fit(iris_X_train, iris_y_train)"
   ]
  },
  {
   "cell_type": "code",
   "execution_count": 9,
   "metadata": {
    "collapsed": false
   },
   "outputs": [
    {
     "data": {
      "text/plain": [
       "array([1, 2, 1, 0, 0, 0, 2, 1, 2, 0])"
      ]
     },
     "execution_count": 9,
     "metadata": {},
     "output_type": "execute_result"
    }
   ],
   "source": [
    "#evaluate model on test instances and compute test error\n",
    "from sklearn.metrics import accuracy_score\n",
    "y_prediction = knn.predict(iris_X_test)\n",
    "y_prediction"
   ]
  },
  {
   "cell_type": "code",
   "execution_count": 10,
   "metadata": {
    "collapsed": false
   },
   "outputs": [
    {
     "data": {
      "text/plain": [
       "0.90000000000000002"
      ]
     },
     "execution_count": 10,
     "metadata": {},
     "output_type": "execute_result"
    }
   ],
   "source": [
    "accuracy_score(iris_y_test, y_prediction)"
   ]
  },
  {
   "cell_type": "code",
   "execution_count": 11,
   "metadata": {
    "collapsed": false
   },
   "outputs": [
    {
     "name": "stdout",
     "output_type": "stream",
     "text": [
      "accuracies{1: 0.90000000000000002, 2: 0.90000000000000002, 3: 0.90000000000000002, 4: 0.90000000000000002, 5: 0.90000000000000002, 6: 0.90000000000000002, 7: 0.90000000000000002, 8: 1.0, 9: 1.0, 10: 1.0, 11: 1.0, 12: 1.0, 13: 0.90000000000000002, 14: 1.0, 15: 0.90000000000000002, 16: 1.0, 17: 1.0, 18: 1.0, 19: 1.0, 20: 1.0}\n",
      "\n",
      "best accuracy is 1.0\n",
      "\n",
      "the best K is 8\n",
      "\n"
     ]
    },
    {
     "data": {
      "text/plain": [
       "KNeighborsClassifier(algorithm='auto', leaf_size=30, metric='minkowski',\n",
       "           metric_params=None, n_jobs=1, n_neighbors=8, p=2,\n",
       "           weights='uniform')"
      ]
     },
     "execution_count": 11,
     "metadata": {},
     "output_type": "execute_result"
    }
   ],
   "source": [
    "#test the value of k [1-20]\n",
    "accuracies = []\n",
    "for k in range(1,21):\n",
    "    #fiting the KNN classifier\n",
    "    knn.set_params(n_neighbors=k).fit(iris_X_train,iris_y_train)\n",
    "    acc = accuracy_score(iris_y_test, knn.predict(iris_X_test))\n",
    "    accuracies.append(acc)\n",
    "#print the best k \n",
    "print('accuracies'+ str({k:v for k,v in zip(range(1,21),accuracies)})+'\\n')\n",
    "max_acc =  max(accuracies)\n",
    "best_K = accuracies.index(max_acc) + 1\n",
    "print('best accuracy is '+str(max_acc)+'\\n')\n",
    "print('the best K is ' + str(best_K)+'\\n')\n",
    "\n",
    "# choosing the best knn\n",
    "knn.set_params(n_neighbors=best_K).fit(iris_X_train,iris_y_train)\n",
    "    "
   ]
  },
  {
   "cell_type": "markdown",
   "metadata": {
    "collapsed": true
   },
   "source": [
    "# Lab Assignment"
   ]
  },
  {
   "cell_type": "code",
   "execution_count": 12,
   "metadata": {
    "collapsed": true
   },
   "outputs": [],
   "source": [
    "# KNN with cross validation in all the dataset\n",
    "\n",
    "from sklearn.utils import shuffle\n",
    "from sklearn.model_selection import cross_val_score\n"
   ]
  },
  {
   "cell_type": "code",
   "execution_count": 19,
   "metadata": {
    "collapsed": false
   },
   "outputs": [],
   "source": [
    "# shuffeling the input\n",
    "X, y = shuffle(iris_X,iris_y, random_state=0)\n",
    "CV = 10 # always use a 10-fold cross validation"
   ]
  },
  {
   "cell_type": "markdown",
   "metadata": {},
   "source": [
    "## KNN Results"
   ]
  },
  {
   "cell_type": "code",
   "execution_count": 16,
   "metadata": {
    "collapsed": false
   },
   "outputs": [
    {
     "name": "stdout",
     "output_type": "stream",
     "text": [
      "accuracies for 10-fold cross validation using 5NN\n",
      "[ 1.          1.          0.93333333  0.86666667  1.          1.          1.\n",
      "  1.          0.93333333  0.93333333]\n",
      "mean accuracy for KNN is 0.966666666667\n"
     ]
    }
   ],
   "source": [
    "knn = KNeighborsClassifier()\n",
    "# use 10-fold cross validation: 90% train and 10% test\n",
    "knn_accuracies = cross_val_score(knn,X,y,cv=CV)\n",
    "print('accuracies for 10-fold cross validation using 5NN')\n",
    "print(knn_accuracies)\n",
    "knn_mean_accuracy = np.mean(knn_accuracies)\n",
    "print('mean accuracy for KNN is '+ str(knn_mean_accuracy))"
   ]
  },
  {
   "cell_type": "markdown",
   "metadata": {},
   "source": [
    "## SVM Results"
   ]
  },
  {
   "cell_type": "code",
   "execution_count": 20,
   "metadata": {
    "collapsed": false
   },
   "outputs": [
    {
     "name": "stdout",
     "output_type": "stream",
     "text": [
      "accuracies for 10-fold cross validation using SVM\n",
      "[ 1.          1.          1.          0.93333333  1.          1.          1.\n",
      "  1.          0.93333333  0.93333333]\n",
      "mean accuracy for SVM is 0.98\n"
     ]
    }
   ],
   "source": [
    "from sklearn.svm import SVC\n",
    "svm = SVC()\n",
    "svm_accuracies = cross_val_score(svm, X,y, cv=CV)\n",
    "print('accuracies for 10-fold cross validation using SVM')\n",
    "print(svm_accuracies)\n",
    "svm_mean_accuracy = np.mean(svm_accuracies)\n",
    "print('mean accuracy for SVM is '+ str(svm_mean_accuracy))"
   ]
  },
  {
   "cell_type": "markdown",
   "metadata": {},
   "source": [
    "## Logistic Regression Results"
   ]
  },
  {
   "cell_type": "code",
   "execution_count": 21,
   "metadata": {
    "collapsed": false
   },
   "outputs": [
    {
     "name": "stdout",
     "output_type": "stream",
     "text": [
      "accuracies for 10-fold cross validation using Logistic Regression\n",
      "[ 1.          1.          0.86666667  0.93333333  0.93333333  1.          1.\n",
      "  0.93333333  1.          0.93333333]\n",
      "mean accuracy for Logistic Regression is 0.96\n"
     ]
    }
   ],
   "source": [
    "from sklearn.linear_model import LogisticRegression\n",
    "logistic_regression = LogisticRegression()\n",
    "logistic_regression_accuracies = cross_val_score(logistic_regression, X,y,cv=CV)\n",
    "print('accuracies for 10-fold cross validation using Logistic Regression')\n",
    "print(logistic_regression_accuracies)\n",
    "logistic_regression_mean_accuracy = np.mean(logistic_regression_accuracies)\n",
    "print('mean accuracy for Logistic Regression is '+ str(logistic_regression_mean_accuracy))"
   ]
  },
  {
   "cell_type": "markdown",
   "metadata": {},
   "source": [
    "## Comparing the classifiers"
   ]
  },
  {
   "cell_type": "code",
   "execution_count": 44,
   "metadata": {
    "collapsed": false
   },
   "outputs": [
    {
     "data": {
      "text/plain": [
       "<matplotlib.text.Text at 0x7f9d6b4ca2b0>"
      ]
     },
     "execution_count": 44,
     "metadata": {},
     "output_type": "execute_result"
    },
    {
     "data": {
      "image/png": "[encoded data removed]",
      "text/plain": [
       "<matplotlib.figure.Figure at 0x7f9d6aae7b00>"
      ]
     },
     "metadata": {},
     "output_type": "display_data"
    }
   ],
   "source": [
    "import matplotlib.pyplot as plt\n",
    "%matplotlib inline\n",
    "\n",
    "######## parameters of the plot #####\n",
    "bar_width = 1/1.5 #for the bar plot\n",
    "plt.rcParams['figure.figsize'] = (7,7)\n",
    "plt.rcParams['xtick.labelsize']=18\n",
    "plt.rcParams['axes.labelsize']=18\n",
    "plt.rcParams['ytick.labelsize']=15\n",
    "########                        #####\n",
    "\n",
    "y = [knn_mean_accuracy, svm_mean_accuracy, logistic_regression_mean_accuracy]\n",
    "x = list(range(0,3))\n",
    "x_labels = ['KNN', 'SVM', 'Logistic Regression']\n",
    "\n",
    "\n",
    "plt.bar(x,y,bar_width, color='red')\n",
    "plt.ylim(ymin=0.9, ymax=1)\n",
    "plt.xticks(x,x_labels)\n",
    "plt.xlabel('Classifiers')\n",
    "plt.ylabel('mean accuracy on 10-fold cross validation')\n"
   ]
  },
  {
   "cell_type": "markdown",
   "metadata": {},
   "source": [
    "### The winner is ..."
   ]
  },
  {
   "cell_type": "code",
   "execution_count": 45,
   "metadata": {
    "collapsed": false
   },
   "outputs": [
    {
     "name": "stdout",
     "output_type": "stream",
     "text": [
      "the best classifier is SVM\n",
      "the accuracy (mean accuracy using 10-fold cross validation) obtained with it is 0.98\n"
     ]
    }
   ],
   "source": [
    "max_accuracy = max(y)\n",
    "best_classifier = x_labels[y.index(max_accuracy)]\n",
    "\n",
    "print('the best classifier is ' + best_classifier)\n",
    "print('the accuracy (mean accuracy using 10-fold cross validation) obtained with it is '+ str(max_accuracy))"
   ]
  },
  {
   "cell_type": "code",
   "execution_count": null,
   "metadata": {
    "collapsed": true
   },
   "outputs": [],
   "source": []
  }
 ],
 "metadata": {
  "anaconda-cloud": {},
  "kernelspec": {
   "display_name": "Python [conda root]",
   "language": "python",
   "name": "conda-root-py"
  },
  "language_info": {
   "codemirror_mode": {
    "name": "ipython",
    "version": 3
   },
   "file_extension": ".py",
   "mimetype": "text/x-python",
   "name": "python",
   "nbconvert_exporter": "python",
   "pygments_lexer": "ipython3",
   "version": "3.5.2"
  }
 },
 "nbformat": 4,
 "nbformat_minor": 1
}
