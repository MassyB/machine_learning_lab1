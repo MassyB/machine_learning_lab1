{
 "cells": [
  {
   "cell_type": "markdown",
   "metadata": {
    "collapsed": true
   },
   "source": [
    "# PART II: Lab Assignment"
   ]
  },
  {
   "cell_type": "code",
   "execution_count": 9,
   "metadata": {
    "collapsed": true
   },
   "outputs": [],
   "source": [
    "import numpy as np"
   ]
  },
  {
   "cell_type": "code",
   "execution_count": 10,
   "metadata": {
    "collapsed": true
   },
   "outputs": [],
   "source": [
    "# for cross validation\n",
    "from sklearn.utils import shuffle\n",
    "from sklearn.model_selection import cross_val_score\n",
    "# dataset\n",
    "from sklearn import datasets\n",
    "iris = datasets.load_iris()\n",
    "\n",
    "iris_X = iris.data\n",
    "iris_y = iris.target\n",
    "\n",
    "## getting the data \n",
    "iris = datasets.load_iris()"
   ]
  },
  {
   "cell_type": "code",
   "execution_count": 11,
   "metadata": {
    "collapsed": false
   },
   "outputs": [],
   "source": [
    "# shuffeling the input\n",
    "X, y = shuffle(iris_X,iris_y, random_state=0)\n",
    "CV = 10 # always use a 10-fold cross validation"
   ]
  },
  {
   "cell_type": "markdown",
   "metadata": {},
   "source": [
    "## Classifier I : KNN Results"
   ]
  },
  {
   "cell_type": "code",
   "execution_count": 12,
   "metadata": {
    "collapsed": false
   },
   "outputs": [
    {
     "name": "stdout",
     "output_type": "stream",
     "text": [
      "accuracies for 10-fold cross validation using 5NN\n",
      "[ 1.          1.          0.93333333  0.86666667  1.          1.          1.\n",
      "  1.          0.93333333  0.93333333]\n",
      "mean accuracy for KNN is 0.966666666667\n"
     ]
    }
   ],
   "source": [
    "from sklearn.neighbors import KNeighborsClassifier\n",
    "\n",
    "knn = KNeighborsClassifier()\n",
    "# use 10-fold cross validation: 90% train and 10% test, 10 times\n",
    "knn_accuracies = cross_val_score(knn,X,y,cv=CV)\n",
    "print('accuracies for 10-fold cross validation using 5NN') # the default K=5\n",
    "print(knn_accuracies)\n",
    "knn_mean_accuracy = np.mean(knn_accuracies)\n",
    "print('mean accuracy for KNN is '+ str(knn_mean_accuracy))"
   ]
  },
  {
   "cell_type": "markdown",
   "metadata": {},
   "source": [
    "## Classifier II: SVM Results"
   ]
  },
  {
   "cell_type": "code",
   "execution_count": 13,
   "metadata": {
    "collapsed": false
   },
   "outputs": [
    {
     "name": "stdout",
     "output_type": "stream",
     "text": [
      "accuracies for 10-fold cross validation using SVM\n",
      "[ 1.          1.          1.          0.93333333  1.          1.          1.\n",
      "  1.          0.93333333  0.93333333]\n",
      "mean accuracy for SVM is 0.98\n"
     ]
    }
   ],
   "source": [
    "from sklearn.svm import SVC\n",
    "\n",
    "svm = SVC() # the default classifier provided by sklearn\n",
    "svm_accuracies = cross_val_score(svm, X,y, cv=CV)\n",
    "print('accuracies for 10-fold cross validation using SVM')\n",
    "print(svm_accuracies)\n",
    "svm_mean_accuracy = np.mean(svm_accuracies)\n",
    "print('mean accuracy for SVM is '+ str(svm_mean_accuracy))"
   ]
  },
  {
   "cell_type": "markdown",
   "metadata": {},
   "source": [
    "## Classifier III: Logistic Regression Results"
   ]
  },
  {
   "cell_type": "code",
   "execution_count": 14,
   "metadata": {
    "collapsed": false
   },
   "outputs": [
    {
     "name": "stdout",
     "output_type": "stream",
     "text": [
      "accuracies for 10-fold cross validation using Logistic Regression\n",
      "[ 1.          1.          0.86666667  0.93333333  0.93333333  1.          1.\n",
      "  0.93333333  1.          0.93333333]\n",
      "mean accuracy for Logistic Regression is 0.96\n"
     ]
    }
   ],
   "source": [
    "from sklearn.linear_model import LogisticRegression\n",
    "\n",
    "logistic_regression = LogisticRegression() # default classifier\n",
    "logistic_regression_accuracies = cross_val_score(logistic_regression, X,y,cv=CV)\n",
    "print('accuracies for 10-fold cross validation using Logistic Regression')\n",
    "print(logistic_regression_accuracies)\n",
    "logistic_regression_mean_accuracy = np.mean(logistic_regression_accuracies)\n",
    "print('mean accuracy for Logistic Regression is '+ str(logistic_regression_mean_accuracy))"
   ]
  },
  {
   "cell_type": "markdown",
   "metadata": {},
   "source": [
    "## Comparing the classifiers"
   ]
  },
  {
   "cell_type": "code",
   "execution_count": 15,
   "metadata": {
    "collapsed": false
   },
   "outputs": [
    {
     "data": {
      "text/plain": [
       "<matplotlib.text.Text at 0x7fdf6c9c3208>"
      ]
     },
     "execution_count": 15,
     "metadata": {},
     "output_type": "execute_result"
    },
    {
     "data": {
      "image/png": "[encoded data removed]",
      "text/plain": [
       "<matplotlib.figure.Figure at 0x7fdf6cd64978>"
      ]
     },
     "metadata": {},
     "output_type": "display_data"
    }
   ],
   "source": [
    "import matplotlib.pyplot as plt\n",
    "%matplotlib inline\n",
    "\n",
    "######## parameters of the plot #####\n",
    "bar_width = 1/1.5 #for the bar plot\n",
    "plt.rcParams['figure.figsize'] = (7,7)\n",
    "plt.rcParams['xtick.labelsize']=18\n",
    "plt.rcParams['axes.labelsize']=18\n",
    "plt.rcParams['ytick.labelsize']=15\n",
    "########                        #####\n",
    "\n",
    "y = [knn_mean_accuracy, svm_mean_accuracy, logistic_regression_mean_accuracy]\n",
    "x = list(range(0,3))\n",
    "x_labels = ['KNN', 'SVM', 'Logistic Regression']\n",
    "\n",
    "\n",
    "plt.bar(x,y,bar_width, color='red')\n",
    "plt.ylim(ymin=0.9, ymax=1)\n",
    "plt.xticks(x,x_labels)\n",
    "plt.xlabel('Classifiers')\n",
    "plt.ylabel('mean accuracy on 10-fold cross validation')\n",
    "plt.title(\"mean accuracy comparison\")\n"
   ]
  },
  {
   "cell_type": "markdown",
   "metadata": {},
   "source": [
    "### The winner is ..."
   ]
  },
  {
   "cell_type": "code",
   "execution_count": 16,
   "metadata": {
    "collapsed": false
   },
   "outputs": [
    {
     "name": "stdout",
     "output_type": "stream",
     "text": [
      "the best classifier is SVM\n",
      "the accuracy (mean accuracy using 10-fold cross validation) obtained with it is 0.98\n"
     ]
    }
   ],
   "source": [
    "max_accuracy = max(y)\n",
    "best_classifier = x_labels[y.index(max_accuracy)]\n",
    "\n",
    "print('the best classifier is ' + best_classifier)\n",
    "print('the accuracy (mean accuracy using 10-fold cross validation) obtained with it is '+ str(max_accuracy))"
   ]
  }
 ],
 "metadata": {
  "anaconda-cloud": {},
  "kernelspec": {
   "display_name": "Python [conda root]",
   "language": "python",
   "name": "conda-root-py"
  },
  "language_info": {
   "codemirror_mode": {
    "name": "ipython",
    "version": 3
   },
   "file_extension": ".py",
   "mimetype": "text/x-python",
   "name": "python",
   "nbconvert_exporter": "python",
   "pygments_lexer": "ipython3",
   "version": "3.5.2"
  }
 },
 "nbformat": 4,
 "nbformat_minor": 1
}
